{
 "cells": [
  {
   "cell_type": "code",
   "execution_count": 7,
   "metadata": {},
   "outputs": [
    {
     "name": "stdout",
     "output_type": "stream",
     "text": [
      "duration = 529299.215749979\n",
      "duration in hour = 147.02755993054973\n"
     ]
    }
   ],
   "source": [
    "import os\n",
    "import pandas as pd\n",
    "\n",
    "data_folder = \"/home/dex-arb/spread-arbitrage/get_orderbook_data/depth-data\"\n",
    "symbol = \"BTC\"\n",
    "offset_ratio = 0.0025\n",
    "\n",
    "filename_apex = os.path.join(data_folder, f\"order_book_{symbol}USDC_apex.csv\")\n",
    "filename_dydx = os.path.join(data_folder, f\"order_book_{symbol}-USD_dydx.csv\")\n",
    "\n",
    "df_apex = pd.read_csv(filename_apex, header = 0)\n",
    "df_dydx = pd.read_csv(filename_dydx, header = 0)\n",
    "\n",
    "print (\"duration = {}\".format(df_apex.iloc[-1][\"Timestamp\"] - df_apex.iloc[0][\"Timestamp\"]))\n",
    "print (\"duration in hour = {}\".format((df_apex.iloc[-1][\"Timestamp\"] - df_apex.iloc[0][\"Timestamp\"]) / 3600))"
   ]
  },
  {
   "cell_type": "code",
   "execution_count": 8,
   "metadata": {},
   "outputs": [
    {
     "name": "stdout",
     "output_type": "stream",
     "text": [
      "# samples = 21945\n",
      "# samples with dydx above apex = 0\n",
      "# samples with apex above dydx = 0\n"
     ]
    }
   ],
   "source": [
    "df_bid1_apex_dydx = pd.merge(left = df_apex.iloc[10::20][[\"Price\", \"Timestamp\", \"Quantity\"]].rename(columns = {\"Price\": \"bid1_px_apex\",\n",
    "                                                                                                               \"Quantity\": \"bid1_sz_apex\"}),\n",
    "                             right = df_dydx.iloc[10::20][[\"Price\", \"Timestamp\", \"Size\"]].rename(columns = {\"Price\": \"bid1_px_dydx\",\n",
    "                                                                                                            \"Size\": \"bid1_sz_dydx\"}),\n",
    "                             left_on = [\"Timestamp\"],\n",
    "                             right_on = [\"Timestamp\"],\n",
    "                             how = \"outer\")\n",
    "df_ask1_apex_dydx = pd.merge(left = df_apex.iloc[::20][[\"Price\", \"Timestamp\", \"Quantity\"]].rename(columns = {\"Price\": \"ask1_px_apex\",\n",
    "                                                                                                             \"Quantity\": \"ask1_sz_apex\"}),\n",
    "                             right = df_dydx.iloc[::20][[\"Price\", \"Timestamp\", \"Size\"]].rename(columns = {\"Price\": \"ask1_px_dydx\",\n",
    "                                                                                                          \"Size\": \"ask1_sz_dydx\"}),\n",
    "                             left_on = [\"Timestamp\"],\n",
    "                             right_on = [\"Timestamp\"],\n",
    "                             how = \"outer\")\n",
    "df_bs1_apex_dydx = pd.merge(left = df_bid1_apex_dydx,\n",
    "                            right = df_ask1_apex_dydx,\n",
    "                            left_on = [\"Timestamp\"],\n",
    "                            right_on = [\"Timestamp\"],\n",
    "                            how = \"outer\").set_index(\"Timestamp\")\n",
    "\n",
    "df_bs1_apex_dydx[\"dydx_above_apex\"] = (df_bs1_apex_dydx[\"bid1_px_dydx\"] > df_bs1_apex_dydx[\"ask1_px_apex\"] * (1 + offset_ratio)).astype(int)\n",
    "df_bs1_apex_dydx[\"apex_above_dydx\"] = (df_bs1_apex_dydx[\"bid1_px_apex\"] > df_bs1_apex_dydx[\"ask1_px_dydx\"] * (1 + offset_ratio)).astype(int)\n",
    "\n",
    "print (\"# samples = {}\".format(df_bs1_apex_dydx.shape[0]))\n",
    "print (\"# samples with dydx above apex = {}\".format(df_bs1_apex_dydx[\"dydx_above_apex\"].sum()))\n",
    "print (\"# samples with apex above dydx = {}\".format(df_bs1_apex_dydx[\"apex_above_dydx\"].sum()))"
   ]
  },
  {
   "cell_type": "code",
   "execution_count": null,
   "metadata": {},
   "outputs": [],
   "source": []
  }
 ],
 "metadata": {
  "kernelspec": {
   "display_name": "Python 3",
   "language": "python",
   "name": "python3"
  },
  "language_info": {
   "codemirror_mode": {
    "name": "ipython",
    "version": 3
   },
   "file_extension": ".py",
   "mimetype": "text/x-python",
   "name": "python",
   "nbconvert_exporter": "python",
   "pygments_lexer": "ipython3",
   "version": "3.10.14"
  }
 },
 "nbformat": 4,
 "nbformat_minor": 2
}
